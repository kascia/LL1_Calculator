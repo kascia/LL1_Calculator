{
 "cells": [
  {
   "cell_type": "code",
   "execution_count": null,
   "metadata": {
    "collapsed": true
   },
   "outputs": [],
   "source": [
    "import sys\n",
    "\n",
    "class IO:\n",
    "    def __init__(self):\n",
    "        self.strcalc=''\n",
    "                \n",
    "    def get_strcalc(self):\n",
    "        argc = len(sys.argv)\n",
    "        for i in range(argc):\n",
    "            self.strcalc += argv[i]\n",
    "        return strcalc\n",
    "    \n",
    "    def print_ans(self,ans):\n",
    "        return ans\n",
    "    "
   ]
  }
 ],
 "metadata": {
  "kernelspec": {
   "display_name": "Python 2",
   "language": "python",
   "name": "python2"
  },
  "language_info": {
   "codemirror_mode": {
    "name": "ipython",
    "version": 2
   },
   "file_extension": ".py",
   "mimetype": "text/x-python",
   "name": "python",
   "nbconvert_exporter": "python",
   "pygments_lexer": "ipython2",
   "version": "2.7.6"
  }
 },
 "nbformat": 4,
 "nbformat_minor": 0
}
